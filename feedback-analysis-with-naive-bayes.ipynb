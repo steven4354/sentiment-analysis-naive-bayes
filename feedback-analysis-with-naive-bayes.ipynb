{
 "cells": [
  {
   "cell_type": "code",
   "execution_count": 1,
   "metadata": {},
   "outputs": [
    {
     "name": "stdout",
     "output_type": "stream",
     "text": [
      "--2019-01-24 16:19:11--  https://archive.ics.uci.edu/ml/machine-learning-databases/00331/sentiment%20labelled%20sentences.zip\n",
      "Resolving archive.ics.uci.edu (archive.ics.uci.edu)... 128.195.10.249\n",
      "Connecting to archive.ics.uci.edu (archive.ics.uci.edu)|128.195.10.249|:443... connected.\n",
      "HTTP request sent, awaiting response... 200 OK\n",
      "Length: 84188 (82K) [application/zip]\n",
      "Saving to: ‘sentiment labelled sentences.zip’\n",
      "\n",
      "sentiment labelled  100%[===================>]  82.21K  --.-KB/s    in 0.05s   \n",
      "\n",
      "2019-01-24 16:19:11 (1.61 MB/s) - ‘sentiment labelled sentences.zip’ saved [84188/84188]\n",
      "\n"
     ]
    }
   ],
   "source": [
    "!wget 'https://archive.ics.uci.edu/ml/machine-learning-databases/00331/sentiment%20labelled%20sentences.zip'"
   ]
  },
  {
   "cell_type": "code",
   "execution_count": 2,
   "metadata": {},
   "outputs": [
    {
     "name": "stdout",
     "output_type": "stream",
     "text": [
      "CODE-OF-CONDUCT.md  Image_Classify.ipynb  sentiment labelled sentences.zip\r\n",
      "courses\t\t    LICENSE\t\t  setup.cfg\r\n",
      "environment.yml     MANIFEST\t\t  setup.py\r\n",
      "fastai\t\t    MANIFEST.in\t\t  tutorials\r\n",
      "food-101\t    README.md\t\t  Untitled.ipynb\r\n",
      "food-101.tar\t    README.rst\t\t  wget-log\r\n",
      "food-101.tar.gz     requirements.txt\r\n"
     ]
    }
   ],
   "source": [
    "!ls"
   ]
  },
  {
   "cell_type": "code",
   "execution_count": 4,
   "metadata": {},
   "outputs": [
    {
     "name": "stdout",
     "output_type": "stream",
     "text": [
      "Archive:  sentiment labelled sentences.zip\r\n",
      "   creating: sentiment labelled sentences/\r\n",
      "  inflating: sentiment labelled sentences/.DS_Store  \r\n",
      "   creating: __MACOSX/\r\n",
      "   creating: __MACOSX/sentiment labelled sentences/\r\n",
      "  inflating: __MACOSX/sentiment labelled sentences/._.DS_Store  \r\n",
      "  inflating: sentiment labelled sentences/amazon_cells_labelled.txt  \r\n",
      "  inflating: sentiment labelled sentences/imdb_labelled.txt  \r\n",
      "  inflating: __MACOSX/sentiment labelled sentences/._imdb_labelled.txt  \r\n",
      "  inflating: sentiment labelled sentences/readme.txt  \r\n",
      "  inflating: __MACOSX/sentiment labelled sentences/._readme.txt  \r\n",
      "  inflating: sentiment labelled sentences/yelp_labelled.txt  \r\n",
      "  inflating: __MACOSX/._sentiment labelled sentences  \r\n"
     ]
    }
   ],
   "source": [
    "!unzip sentiment\\ labelled\\ sentences.zip"
   ]
  },
  {
   "cell_type": "code",
   "execution_count": 5,
   "metadata": {},
   "outputs": [
    {
     "name": "stdout",
     "output_type": "stream",
     "text": [
      "CODE-OF-CONDUCT.md    MANIFEST.in\r\n",
      "courses\t\t      README.md\r\n",
      "environment.yml       README.rst\r\n",
      "fastai\t\t      requirements.txt\r\n",
      "food-101\t      sentiment labelled sentences\r\n",
      "food-101.tar\t      sentiment labelled sentences.zip\r\n",
      "food-101.tar.gz       setup.cfg\r\n",
      "Image_Classify.ipynb  setup.py\r\n",
      "LICENSE\t\t      tutorials\r\n",
      "__MACOSX\t      Untitled.ipynb\r\n",
      "MANIFEST\t      wget-log\r\n"
     ]
    }
   ],
   "source": [
    "!ls"
   ]
  },
  {
   "cell_type": "code",
   "execution_count": 7,
   "metadata": {},
   "outputs": [
    {
     "name": "stdout",
     "output_type": "stream",
     "text": [
      "amazon_cells_labelled.txt  imdb_labelled.txt  readme.txt  yelp_labelled.txt\r\n"
     ]
    }
   ],
   "source": [
    "!ls sentiment\\ labelled\\ sentences"
   ]
  },
  {
   "cell_type": "code",
   "execution_count": 10,
   "metadata": {},
   "outputs": [
    {
     "data": {
      "text/html": [
       "<div>\n",
       "<style scoped>\n",
       "    .dataframe tbody tr th:only-of-type {\n",
       "        vertical-align: middle;\n",
       "    }\n",
       "\n",
       "    .dataframe tbody tr th {\n",
       "        vertical-align: top;\n",
       "    }\n",
       "\n",
       "    .dataframe thead th {\n",
       "        text-align: right;\n",
       "    }\n",
       "</style>\n",
       "<table border=\"1\" class=\"dataframe\">\n",
       "  <thead>\n",
       "    <tr style=\"text-align: right;\">\n",
       "      <th></th>\n",
       "      <th>0</th>\n",
       "      <th>1</th>\n",
       "    </tr>\n",
       "  </thead>\n",
       "  <tbody>\n",
       "    <tr>\n",
       "      <th>0</th>\n",
       "      <td>So there is no way for me to plug it in here i...</td>\n",
       "      <td>0</td>\n",
       "    </tr>\n",
       "    <tr>\n",
       "      <th>1</th>\n",
       "      <td>Good case, Excellent value.</td>\n",
       "      <td>1</td>\n",
       "    </tr>\n",
       "    <tr>\n",
       "      <th>2</th>\n",
       "      <td>Great for the jawbone.</td>\n",
       "      <td>1</td>\n",
       "    </tr>\n",
       "    <tr>\n",
       "      <th>3</th>\n",
       "      <td>Tied to charger for conversations lasting more...</td>\n",
       "      <td>0</td>\n",
       "    </tr>\n",
       "    <tr>\n",
       "      <th>4</th>\n",
       "      <td>The mic is great.</td>\n",
       "      <td>1</td>\n",
       "    </tr>\n",
       "  </tbody>\n",
       "</table>\n",
       "</div>"
      ],
      "text/plain": [
       "                                                   0  1\n",
       "0  So there is no way for me to plug it in here i...  0\n",
       "1                        Good case, Excellent value.  1\n",
       "2                             Great for the jawbone.  1\n",
       "3  Tied to charger for conversations lasting more...  0\n",
       "4                                  The mic is great.  1"
      ]
     },
     "execution_count": 10,
     "metadata": {},
     "output_type": "execute_result"
    }
   ],
   "source": [
    "%matplotlib inline\n",
    "import numpy as np\n",
    "import pandas as pd\n",
    "import scipy\n",
    "import sklearn\n",
    "import matplotlib.pyplot as plt\n",
    "import seaborn as sns\n",
    "\n",
    "# Grab and process the raw data.\n",
    "data_path = (\"sentiment labelled sentences/amazon_cells_labelled.txt\")\n",
    "sms_raw = pd.read_csv(data_path, delimiter= '\\t', header=None)\n",
    "sms_raw.head()"
   ]
  },
  {
   "cell_type": "code",
   "execution_count": 11,
   "metadata": {},
   "outputs": [],
   "source": [
    "sms_raw.columns = ['message', 'pos_neg']"
   ]
  },
  {
   "cell_type": "code",
   "execution_count": 12,
   "metadata": {},
   "outputs": [
    {
     "data": {
      "text/html": [
       "<div>\n",
       "<style scoped>\n",
       "    .dataframe tbody tr th:only-of-type {\n",
       "        vertical-align: middle;\n",
       "    }\n",
       "\n",
       "    .dataframe tbody tr th {\n",
       "        vertical-align: top;\n",
       "    }\n",
       "\n",
       "    .dataframe thead th {\n",
       "        text-align: right;\n",
       "    }\n",
       "</style>\n",
       "<table border=\"1\" class=\"dataframe\">\n",
       "  <thead>\n",
       "    <tr style=\"text-align: right;\">\n",
       "      <th></th>\n",
       "      <th>message</th>\n",
       "      <th>pos_neg</th>\n",
       "      <th>good</th>\n",
       "      <th>bad</th>\n",
       "      <th>great</th>\n",
       "      <th>disappoint</th>\n",
       "      <th>negative</th>\n",
       "      <th>unsatisfactory</th>\n",
       "      <th>sweet</th>\n",
       "      <th>excellent</th>\n",
       "    </tr>\n",
       "  </thead>\n",
       "  <tbody>\n",
       "    <tr>\n",
       "      <th>0</th>\n",
       "      <td>So there is no way for me to plug it in here i...</td>\n",
       "      <td>0</td>\n",
       "      <td>False</td>\n",
       "      <td>False</td>\n",
       "      <td>False</td>\n",
       "      <td>False</td>\n",
       "      <td>False</td>\n",
       "      <td>False</td>\n",
       "      <td>False</td>\n",
       "      <td>False</td>\n",
       "    </tr>\n",
       "    <tr>\n",
       "      <th>1</th>\n",
       "      <td>Good case, Excellent value.</td>\n",
       "      <td>1</td>\n",
       "      <td>False</td>\n",
       "      <td>False</td>\n",
       "      <td>False</td>\n",
       "      <td>False</td>\n",
       "      <td>False</td>\n",
       "      <td>False</td>\n",
       "      <td>False</td>\n",
       "      <td>True</td>\n",
       "    </tr>\n",
       "    <tr>\n",
       "      <th>2</th>\n",
       "      <td>Great for the jawbone.</td>\n",
       "      <td>1</td>\n",
       "      <td>False</td>\n",
       "      <td>False</td>\n",
       "      <td>False</td>\n",
       "      <td>False</td>\n",
       "      <td>False</td>\n",
       "      <td>False</td>\n",
       "      <td>False</td>\n",
       "      <td>False</td>\n",
       "    </tr>\n",
       "    <tr>\n",
       "      <th>3</th>\n",
       "      <td>Tied to charger for conversations lasting more...</td>\n",
       "      <td>0</td>\n",
       "      <td>False</td>\n",
       "      <td>False</td>\n",
       "      <td>False</td>\n",
       "      <td>False</td>\n",
       "      <td>False</td>\n",
       "      <td>False</td>\n",
       "      <td>False</td>\n",
       "      <td>False</td>\n",
       "    </tr>\n",
       "    <tr>\n",
       "      <th>4</th>\n",
       "      <td>The mic is great.</td>\n",
       "      <td>1</td>\n",
       "      <td>False</td>\n",
       "      <td>False</td>\n",
       "      <td>False</td>\n",
       "      <td>False</td>\n",
       "      <td>False</td>\n",
       "      <td>False</td>\n",
       "      <td>False</td>\n",
       "      <td>False</td>\n",
       "    </tr>\n",
       "  </tbody>\n",
       "</table>\n",
       "</div>"
      ],
      "text/plain": [
       "                                             message  pos_neg   good    bad  \\\n",
       "0  So there is no way for me to plug it in here i...        0  False  False   \n",
       "1                        Good case, Excellent value.        1  False  False   \n",
       "2                             Great for the jawbone.        1  False  False   \n",
       "3  Tied to charger for conversations lasting more...        0  False  False   \n",
       "4                                  The mic is great.        1  False  False   \n",
       "\n",
       "   great  disappoint  negative  unsatisfactory  sweet  excellent  \n",
       "0  False       False     False           False  False      False  \n",
       "1  False       False     False           False  False       True  \n",
       "2  False       False     False           False  False      False  \n",
       "3  False       False     False           False  False      False  \n",
       "4  False       False     False           False  False      False  "
      ]
     },
     "execution_count": 12,
     "metadata": {},
     "output_type": "execute_result"
    }
   ],
   "source": [
    "# I think the keywords are:\n",
    "keywords = ['good', 'bad', 'great', 'disappoint', 'negative', 'unsatisfactory', 'sweet', 'excellent']\n",
    "\n",
    "for key in keywords:\n",
    "    # Note that we add spaces around the key so that we're getting the word,\n",
    "    # not just pattern matching.\n",
    "    sms_raw[str(key)] = sms_raw.message.str.contains(\n",
    "        ' ' + str(key) + ' ',\n",
    "        case=False\n",
    "    )\n",
    "    \n",
    "\n",
    "sms_raw.head()"
   ]
  },
  {
   "cell_type": "code",
   "execution_count": null,
   "metadata": {},
   "outputs": [],
   "source": []
  },
  {
   "cell_type": "code",
   "execution_count": null,
   "metadata": {},
   "outputs": [],
   "source": []
  }
 ],
 "metadata": {
  "kernelspec": {
   "display_name": "Python 3",
   "language": "python",
   "name": "python3"
  },
  "language_info": {
   "codemirror_mode": {
    "name": "ipython",
    "version": 3
   },
   "file_extension": ".py",
   "mimetype": "text/x-python",
   "name": "python",
   "nbconvert_exporter": "python",
   "pygments_lexer": "ipython3",
   "version": "3.6.4"
  }
 },
 "nbformat": 4,
 "nbformat_minor": 2
}
